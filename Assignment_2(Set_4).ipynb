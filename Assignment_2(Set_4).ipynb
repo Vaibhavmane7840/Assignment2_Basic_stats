{
  "nbformat": 4,
  "nbformat_minor": 0,
  "metadata": {
    "colab": {
      "provenance": []
    },
    "kernelspec": {
      "name": "python3",
      "display_name": "Python 3"
    },
    "language_info": {
      "name": "python"
    }
  },
  "cells": [
    {
      "cell_type": "markdown",
      "source": [
        "3.\tAuditors at a small community bank randomly sample 100 withdrawal transactions made during the week at an ATM machine located near the bank’s main branch. Over the past 2 years, the average withdrawal amount has been $50 with a standard deviation of $40. Since audit investigations are typically expensive, the auditors decide to not initiate further investigations if the mean transaction amount of the sample is between $45 and $55. What is the probability that in any given week, there will be an investigation?\n",
        "**bold text**\n"
      ],
      "metadata": {
        "id": "21sAY58Vp_UM"
      }
    },
    {
      "cell_type": "code",
      "source": [
        "import numpy as np\n",
        "from scipy import stats\n",
        "from scipy.stats import norm\n"
      ],
      "metadata": {
        "id": "hHk6mrhxp-qO"
      },
      "execution_count": null,
      "outputs": []
    },
    {
      "cell_type": "code",
      "execution_count": null,
      "metadata": {
        "id": "t7rcTkqcpdmc"
      },
      "outputs": [],
      "source": [
        "#  mu = $50 \n",
        "#  a standard deviation of $40. \n",
        "# standard error is SE = s/sqrt(n) = 40/sqrt(100) = 40/10 = 4\n",
        "#This distribution is normally distributed because of the central limit theorem. The fact that n = 100 makes n > 30 true indicates that we can use this idea.\n"
      ]
    },
    {
      "cell_type": "code",
      "source": [
        "# Assume Null Hypothesis is: Ho = for no investigation =  P(45)\n",
        "# Alternate Hypothesis is: Ha =  for the investigation >   1 -  P(55-45)"
      ],
      "metadata": {
        "id": "vpxs7yVmtYkt"
      },
      "execution_count": null,
      "outputs": []
    },
    {
      "cell_type": "code",
      "source": [
        "# find z-scores at x=45; z=(s_mean-P_mean)/(p_SD/sqrt(n))\n",
        "z=(45-50)/(40/np.sqrt(100))\n",
        "z"
      ],
      "metadata": {
        "colab": {
          "base_uri": "https://localhost:8080/"
        },
        "id": "OPii5OYRwJc0",
        "outputId": "5941027c-8a3a-41f5-a9a2-aeab24ae949c"
      },
      "execution_count": null,
      "outputs": [
        {
          "output_type": "execute_result",
          "data": {
            "text/plain": [
              "-1.25"
            ]
          },
          "metadata": {},
          "execution_count": 7
        }
      ]
    },
    {
      "cell_type": "code",
      "source": [
        "# find z-scores at x=55; z=(s_mean-P_mean)/(p_SD/sqrt(n))\n",
        "z=(55-50)/(40/np.sqrt(100))\n",
        "z"
      ],
      "metadata": {
        "colab": {
          "base_uri": "https://localhost:8080/"
        },
        "id": "coVq2MjRw1Tb",
        "outputId": "53e90737-be9a-457e-a321-c7af8e1a5413"
      },
      "execution_count": null,
      "outputs": [
        {
          "output_type": "execute_result",
          "data": {
            "text/plain": [
              "1.25"
            ]
          },
          "metadata": {},
          "execution_count": 9
        }
      ]
    },
    {
      "cell_type": "code",
      "source": [
        "# Assume Null Hypothesis is: Ho = for no investigation  P(45)\n",
        "stats.norm.cdf(1.25)-stats.norm.cdf(-1.25)"
      ],
      "metadata": {
        "colab": {
          "base_uri": "https://localhost:8080/"
        },
        "id": "BQTwBiqaxwvO",
        "outputId": "991df20a-17e0-435d-db49-fb470e5c83c6"
      },
      "execution_count": null,
      "outputs": [
        {
          "output_type": "execute_result",
          "data": {
            "text/plain": [
              "0.7887004526662893"
            ]
          },
          "metadata": {},
          "execution_count": 14
        }
      ]
    },
    {
      "cell_type": "code",
      "source": [
        "stats.norm.interval(0.7887,loc=50,scale=40/np.sqrt(100))"
      ],
      "metadata": {
        "colab": {
          "base_uri": "https://localhost:8080/"
        },
        "id": "oZBofEmF1WRe",
        "outputId": "9e60dc9a-220f-491e-e165-8c7b53682266"
      },
      "execution_count": null,
      "outputs": [
        {
          "output_type": "execute_result",
          "data": {
            "text/plain": [
              "(45.00000495667348, 54.99999504332652)"
            ]
          },
          "metadata": {},
          "execution_count": 16
        }
      ]
    },
    {
      "cell_type": "code",
      "source": [
        "# Alternate Hypothesis is: Ha =  for the investigation =    1 -  P(55-45)\n",
        "1-0.7887\n",
        "''' Answer is D = 21.1 % '''"
      ],
      "metadata": {
        "colab": {
          "base_uri": "https://localhost:8080/",
          "height": 35
        },
        "id": "OzHfDjzc1fMU",
        "outputId": "1ea81d35-3817-4792-8df3-1ed2e6d129bd"
      },
      "execution_count": null,
      "outputs": [
        {
          "output_type": "execute_result",
          "data": {
            "text/plain": [
              "' Answer is D = 21.1 % '"
            ],
            "application/vnd.google.colaboratory.intrinsic+json": {
              "type": "string"
            }
          },
          "metadata": {},
          "execution_count": 18
        }
      ]
    }
  ]
}